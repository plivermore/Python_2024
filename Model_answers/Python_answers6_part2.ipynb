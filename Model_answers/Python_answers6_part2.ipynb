{
 "cells": [
  {
   "cell_type": "markdown",
   "id": "7d3c43a2",
   "metadata": {},
   "source": [
    "### Formative assessment"
   ]
  },
  {
   "cell_type": "markdown",
   "id": "27cadb75",
   "metadata": {},
   "source": [
    "This notebook is further practice using Python, set in the style of the assessment you will sit.\n",
    "There are 25 marks available. \n",
    "\n",
    "At the end of the practical, make sure you can export your notebook to a pdf.\n",
    "\n",
    "To do this, \n",
    "\n",
    "1. Restart Noteable, selecting \"shut down\" existing server if needed.\n",
    "2. Select \"Jupyter Classic (Legacy)\" rather than a \"Geoscience\" server.\n",
    "3. Open your notebook. Go to File -> Download as ->  PDF via LaTex.\n",
    "4. A pdf version of your notebook should download.\n",
    "5. If you encounter LaTex errors on saving, check your LaTex and the cell-types (markdown/code/etc) carefully.\n",
    "6. Note that the functionality to directly export a pdf version from the Geoscience server does not currently work. This is why you need to restart it in the legacy mode. \n",
    "\n",
    "\n",
    "The file forestfires.csv contains information relating to a database of forest-fires.\n",
    "\n",
    "**Reference**: P. Cortez and A. Morais. A Data Mining Approach to Predict Forest Fires using Meteorological Data.    In J. Neves, M. F. Santos and J. Machado Eds., New Trends in Artificial Intelligence,    Proceedings of the 13th EPIA 2007 - Portuguese Conference on Artificial Intelligence, December,    Guimaraes, Portugal, pp. 512-523, 2007. APPIA, ISBN-13 978-989-95618-0-9.    Available at: http://www.dsi.uminho.pt/~pcortez/fires.pdf"
   ]
  },
  {
   "cell_type": "markdown",
   "id": "830782f7",
   "metadata": {},
   "source": [
    "Copy the file: forestfires.csv, from the usual location, across to your home filespace."
   ]
  },
  {
   "cell_type": "code",
   "execution_count": 1,
   "id": "4c7905bb",
   "metadata": {},
   "outputs": [],
   "source": [
    "# load the data\n",
    "import numpy as np\n",
    "data = np.loadtxt('forestfires.csv',delimiter = ',',skiprows=1, usecols = (8,9,10,11,12)   )"
   ]
  },
  {
   "cell_type": "raw",
   "id": "e206ccf1",
   "metadata": {},
   "source": [
    "The columns of data give (in order) the Temperature (C), RH (relative humidity in %), wind speed (km/hr), rainfall (mm/m^2), area burnt (in hectares).\n"
   ]
  },
  {
   "cell_type": "markdown",
   "id": "10a45cf8",
   "metadata": {},
   "source": [
    "1. Display to the screen in one output line, showing numbers to 2 decimal places: the maximum, minimium and average value for the burnt area over the forest fires recorded in the database.  [4]"
   ]
  },
  {
   "cell_type": "code",
   "execution_count": 2,
   "id": "f1eba75f",
   "metadata": {},
   "outputs": [
    {
     "name": "stdout",
     "output_type": "stream",
     "text": [
      "Min burnt area is 0.00 ; max area is 1090.84 ; average area is 12.85\n"
     ]
    }
   ],
   "source": [
    "temp = data[:,0]\n",
    "RH = data[:,1]\n",
    "wind = data[:,2]\n",
    "rain = data[:,3]\n",
    "burnt_area = data[:,4]\n",
    "\n",
    "print('Min burnt area is {0:.2f} ; max area is {1:.2f} ; average area is {2:.2f}'\n",
    "      .format(burnt_area.min(), burnt_area.max(), burnt_area.mean() ) )"
   ]
  },
  {
   "cell_type": "markdown",
   "id": "0c6032f7",
   "metadata": {},
   "source": [
    "2. What was the ambient temperature when the fire of maximum area occurred?  [2]"
   ]
  },
  {
   "cell_type": "code",
   "execution_count": 3,
   "id": "8c1e5bcc",
   "metadata": {},
   "outputs": [
    {
     "name": "stdout",
     "output_type": "stream",
     "text": [
      "Temperature was  25.1\n"
     ]
    }
   ],
   "source": [
    "print('Temperature was ', temp[burnt_area.argmax()] )"
   ]
  },
  {
   "cell_type": "markdown",
   "id": "2e35ed42",
   "metadata": {},
   "source": [
    "3. A client is interested in the number of fires that fall within the burnt area ranges: 0-50, 50-100, 100-150. Add code to your script to find the number of fires that fall within each category.  [6]"
   ]
  },
  {
   "cell_type": "code",
   "execution_count": 4,
   "id": "4479887a",
   "metadata": {},
   "outputs": [
    {
     "name": "stdout",
     "output_type": "stream",
     "text": [
      "Number within range 0-50:  493\n",
      "Number within range 50-100:  13\n",
      "Number within range 100-150:  2\n"
     ]
    }
   ],
   "source": [
    "print('Number within range 0-50: ', burnt_area[ (burnt_area >= 0) & (burnt_area < 50)].shape[0] )\n",
    "print('Number within range 50-100: ', burnt_area[ (burnt_area >= 50) & (burnt_area < 100)].shape[0] )\n",
    "print('Number within range 100-150: ', burnt_area[ (burnt_area >= 100) & (burnt_area < 150)].shape[0] )"
   ]
  },
  {
   "cell_type": "markdown",
   "id": "60dfee86",
   "metadata": {},
   "source": [
    "4. The client is further interested in the same measure of spread of burnt-area but for fires with a wind speed of at least 3 km/hr. Copy, paste and modify your code for 1b to display the number of fires within each of the three modified categories. [2]"
   ]
  },
  {
   "cell_type": "code",
   "execution_count": 5,
   "id": "871e122e",
   "metadata": {},
   "outputs": [
    {
     "name": "stdout",
     "output_type": "stream",
     "text": [
      "Number within range 0-50:  343\n",
      "Number within range 50-100:  11\n",
      "Number within range 100-150:  1\n"
     ]
    }
   ],
   "source": [
    "print('Number within range 0-50: ', burnt_area[ (burnt_area >= 0) & (burnt_area < 50) & (wind > 3)].shape[0] )\n",
    "print('Number within range 50-100: ', burnt_area[ (burnt_area >= 50) & (burnt_area < 100)& (wind > 3)].shape[0] )\n",
    "print('Number within range 100-150: ', burnt_area[ (burnt_area >= 100) & (burnt_area < 150)& (wind > 3)].shape[0] )"
   ]
  },
  {
   "cell_type": "markdown",
   "id": "ff47858e",
   "metadata": {},
   "source": [
    "5. The (X,Y) position of the fires can be loaded using the command below. \n",
    "\n",
    "Find the maximum value of the burnt area over those fires that satisfy:\n",
    "- a wind speed of at least 4 km/hr.\n",
    "- a temperature of no more than 23.0 C.\n",
    "- an X-position of 5 or less.                   [3]"
   ]
  },
  {
   "cell_type": "code",
   "execution_count": 6,
   "id": "661d90e9",
   "metadata": {},
   "outputs": [
    {
     "name": "stdout",
     "output_type": "stream",
     "text": [
      "Max value of burnt area is  154.88\n"
     ]
    }
   ],
   "source": [
    "(X,Y) = np.loadtxt('forestfires.csv',delimiter = ',',skiprows=1, usecols = (0,1), unpack=True   )\n",
    "\n",
    "print('Max value of burnt area is ',burnt_area[ (wind > 3) & (temp <= 23) & (X <= 5)].max() )"
   ]
  },
  {
   "cell_type": "markdown",
   "id": "e4a6d06c",
   "metadata": {},
   "source": [
    "6. Another client would like a plot of the whole database of burnt-area against ambient temperature, showing each data point as a filled circle. In order to distinguish the different relative-humidity ranges, plot circles corresponding to RH values of 0-30 as blue, 30-60 as red, 60-100 as green.   [8]"
   ]
  },
  {
   "cell_type": "code",
   "execution_count": 7,
   "id": "46e07b85",
   "metadata": {},
   "outputs": [
    {
     "data": {
      "text/plain": [
       "[<matplotlib.lines.Line2D at 0x7fce037ae970>]"
      ]
     },
     "execution_count": 7,
     "metadata": {},
     "output_type": "execute_result"
    },
    {
     "data": {
      "image/png": "[encoded data removed]",
      "text/plain": [
       "<Figure size 432x288 with 1 Axes>"
      ]
     },
     "metadata": {
      "needs_background": "light"
     },
     "output_type": "display_data"
    }
   ],
   "source": [
    "import matplotlib.pyplot as plt \n",
    "plt.figure()\n",
    "plt.plot( temp[(RH >= 0) & (RH <= 30)], burnt_area[(RH >= 0) & (RH <= 30)],  'bo')\n",
    "plt.plot( temp[(RH >= 30) & (RH <= 60)], burnt_area[(RH >= 30) & (RH <= 60)],  'ro')\n",
    "plt.plot( temp[(RH >= 60) & (RH <= 100)], burnt_area[(RH >= 60) & (RH <= 100)],  'go')"
   ]
  },
  {
   "cell_type": "code",
   "execution_count": null,
   "id": "bb8bd233",
   "metadata": {},
   "outputs": [],
   "source": []
  },
  {
   "cell_type": "code",
   "execution_count": null,
   "id": "bb99f2ab",
   "metadata": {},
   "outputs": [],
   "source": []
  }
 ],
 "metadata": {
  "kernelspec": {
   "display_name": "Python 3 (ipykernel)",
   "language": "python",
   "name": "python3"
  },
  "language_info": {
   "codemirror_mode": {
    "name": "ipython",
    "version": 3
   },
   "file_extension": ".py",
   "mimetype": "text/x-python",
   "name": "python",
   "nbconvert_exporter": "python",
   "pygments_lexer": "ipython3",
   "version": "3.12.7"
  }
 },
 "nbformat": 4,
 "nbformat_minor": 5
}
