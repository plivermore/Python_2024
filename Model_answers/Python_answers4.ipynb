{
 "cells": [
  {
   "cell_type": "markdown",
   "id": "f262986b",
   "metadata": {},
   "source": [
    "## Python 4"
   ]
  },
  {
   "cell_type": "markdown",
   "id": "7d571c00",
   "metadata": {},
   "source": [
    "In this workshop, we'll look at\n",
    "1. Conditional statements\n",
    "2. ..and loops..\n",
    "3. Formatted output\n"
   ]
  },
  {
   "cell_type": "code",
   "execution_count": 1,
   "id": "9bad9a16",
   "metadata": {},
   "outputs": [],
   "source": [
    "import numpy as np"
   ]
  },
  {
   "cell_type": "markdown",
   "id": "d9bade91",
   "metadata": {
    "tags": []
   },
   "source": [
    "# Conditional (if) statements"
   ]
  },
  {
   "cell_type": "code",
   "execution_count": 12,
   "id": "50635956",
   "metadata": {},
   "outputs": [],
   "source": [
    "x = 2\n",
    "if x==3:    #no need for brackets i.e. don't type \"if (x==3):\"\"\n",
    "    print('Error')   #tab indent"
   ]
  },
  {
   "cell_type": "code",
   "execution_count": 13,
   "id": "380b9f46",
   "metadata": {
    "tags": []
   },
   "outputs": [
    {
     "name": "stdout",
     "output_type": "stream",
     "text": [
      "Everything is OK\n"
     ]
    }
   ],
   "source": [
    "if x==3:    \n",
    "    print('Error')  \n",
    "else:\n",
    "    print('Everything is OK')\n",
    "    "
   ]
  },
  {
   "cell_type": "code",
   "execution_count": 39,
   "id": "6fb08647",
   "metadata": {
    "tags": []
   },
   "outputs": [
    {
     "name": "stdout",
     "output_type": "stream",
     "text": [
      "Everything is OK\n"
     ]
    }
   ],
   "source": [
    "x=40\n",
    "if x==3:    \n",
    "    print('Error')  \n",
    "elif x<-20:\n",
    "    print('Oh dear') \n",
    "elif x==4:\n",
    "    print('File problem')\n",
    "else:\n",
    "    print('Everything is OK')"
   ]
  },
  {
   "cell_type": "code",
   "execution_count": 11,
   "id": "10c1cf73",
   "metadata": {},
   "outputs": [
    {
     "name": "stdout",
     "output_type": "stream",
     "text": [
      "At least 1\n"
     ]
    }
   ],
   "source": [
    "# Some other comparisons...\n",
    "x = 1\n",
    "if x>1:\n",
    "    print(\"Greater than 1\")\n",
    "if x<1:\n",
    "    print(\"less than 1\")\n",
    "if x>=1:\n",
    "    print(\"At least 1\")\n",
    "if x!=1:\n",
    "    print(\"Not equal to 1\")"
   ]
  },
  {
   "cell_type": "markdown",
   "id": "2864ceb2",
   "metadata": {},
   "source": [
    "# Combining loops and if statements"
   ]
  },
  {
   "cell_type": "code",
   "execution_count": 21,
   "id": "bab5b78d",
   "metadata": {},
   "outputs": [
    {
     "name": "stdout",
     "output_type": "stream",
     "text": [
      "Element of x with index  219  exceeds 3\n",
      "Element of x with index  611  exceeds 3\n",
      "Element of x with index  665  exceeds 3\n",
      "Element of x with index  949  exceeds 3\n"
     ]
    }
   ],
   "source": [
    "# create a dataset:\n",
    "x = np.random.normal(size=1000)\n",
    "\n",
    "for i in range(1000):\n",
    "    if x[i] > 3:\n",
    "        print('Element of x with index ',i,' exceeds 3')"
   ]
  },
  {
   "cell_type": "code",
   "execution_count": 32,
   "id": "b35933ee",
   "metadata": {},
   "outputs": [
    {
     "name": "stdout",
     "output_type": "stream",
     "text": [
      "Error\n"
     ]
    }
   ],
   "source": [
    "# Use break to \"break out of the loop\"\n",
    "np.random.seed(1)\n",
    "x = np.random.normal(size=1000)\n",
    "\n",
    "for i in range(1000):\n",
    "    if x[i] > 3:\n",
    "        print('Error')\n",
    "        break"
   ]
  },
  {
   "cell_type": "code",
   "execution_count": 34,
   "id": "ae115fb0",
   "metadata": {
    "tags": []
   },
   "outputs": [
    {
     "name": "stdout",
     "output_type": "stream",
     "text": [
      "[[ 1  2  3  4]\n",
      " [ 5  6  7  8]\n",
      " [ 9 10 11 12]\n",
      " [13 14 15 16]]\n"
     ]
    }
   ],
   "source": [
    "A = np.array([[1,2,3,4],[5,6,7,8],[9,10,11,12],[13,14,15,16]])\n",
    "print(A)"
   ]
  },
  {
   "cell_type": "code",
   "execution_count": 36,
   "id": "eeda2de4",
   "metadata": {},
   "outputs": [
    {
     "name": "stdout",
     "output_type": "stream",
     "text": [
      "1\n",
      "6\n",
      "11\n",
      "16\n"
     ]
    }
   ],
   "source": [
    "# display diagonal elements:\n",
    "for i in range(A.shape[0]):\n",
    "    for j in range(A.shape[1]):\n",
    "        if i==j:\n",
    "            print(A[i,j])"
   ]
  },
  {
   "cell_type": "code",
   "execution_count": 49,
   "id": "d02d922d",
   "metadata": {},
   "outputs": [
    {
     "name": "stdout",
     "output_type": "stream",
     "text": [
      "Total number of items exceeding 3 is  3\n"
     ]
    }
   ],
   "source": [
    "# counting items\n",
    "np.random.seed(1)\n",
    "x = np.random.normal(size=1000)\n",
    "total = 0\n",
    "\n",
    "for i in range(1000):\n",
    "    if x[i] > 3:\n",
    "        total += 1\n",
    "print('Total number of items exceeding 3 is ', total)"
   ]
  },
  {
   "cell_type": "code",
   "execution_count": null,
   "id": "106694be",
   "metadata": {},
   "outputs": [],
   "source": []
  },
  {
   "cell_type": "code",
   "execution_count": 53,
   "id": "6f3c903a",
   "metadata": {},
   "outputs": [
    {
     "name": "stdout",
     "output_type": "stream",
     "text": [
      "Total number of items exceeding 3 but less than 5 is  3\n"
     ]
    }
   ],
   "source": [
    "#  Use of logical \"and\"\n",
    "np.random.seed(1)\n",
    "x = np.random.normal(size=1000)\n",
    "total = 0\n",
    "\n",
    "for i in range(1000):\n",
    "    if x[i] > 3 and x[i] < 5:\n",
    "        total += 1\n",
    "print('Total number of items exceeding 3 but less than 5 is ', total)"
   ]
  },
  {
   "cell_type": "code",
   "execution_count": 2,
   "id": "66f0ba72",
   "metadata": {},
   "outputs": [
    {
     "name": "stdout",
     "output_type": "stream",
     "text": [
      "Total number of items either less than -3 or greater than 3 is  4\n"
     ]
    }
   ],
   "source": [
    "#  Use of logical \"or\"\n",
    "np.random.seed(1)\n",
    "x = np.random.normal(size=1000)\n",
    "total = 0\n",
    "\n",
    "for i in range(1000):\n",
    "    if x[i] > 3 or x[i] < -3:\n",
    "        total += 1\n",
    "print('Total number of items either less than -3 or greater than 3 is ', total)"
   ]
  },
  {
   "cell_type": "markdown",
   "id": "144a4125",
   "metadata": {
    "tags": []
   },
   "source": [
    "### Getting user input"
   ]
  },
  {
   "cell_type": "code",
   "execution_count": 8,
   "id": "4077072d",
   "metadata": {},
   "outputs": [
    {
     "name": "stdin",
     "output_type": "stream",
     "text": [
      "Type a number  3\n"
     ]
    },
    {
     "name": "stdout",
     "output_type": "stream",
     "text": [
      "3\n"
     ]
    }
   ],
   "source": [
    "x = input('Type a number ')  #string\n",
    "print(x)"
   ]
  },
  {
   "cell_type": "code",
   "execution_count": 9,
   "id": "2b7e3705",
   "metadata": {},
   "outputs": [
    {
     "data": {
      "text/plain": [
       "str"
      ]
     },
     "execution_count": 9,
     "metadata": {},
     "output_type": "execute_result"
    }
   ],
   "source": [
    "type(x)"
   ]
  },
  {
   "cell_type": "code",
   "execution_count": 10,
   "id": "22219466",
   "metadata": {},
   "outputs": [
    {
     "name": "stdin",
     "output_type": "stream",
     "text": [
      "Type a number  3.45\n"
     ]
    },
    {
     "name": "stdout",
     "output_type": "stream",
     "text": [
      "3.45\n"
     ]
    },
    {
     "data": {
      "text/plain": [
       "float"
      ]
     },
     "execution_count": 10,
     "metadata": {},
     "output_type": "execute_result"
    }
   ],
   "source": [
    "x = float(input('Type a number '))  #float i.e. decimal number\n",
    "print(x)\n",
    "type(x)"
   ]
  },
  {
   "cell_type": "code",
   "execution_count": 11,
   "id": "a1bbbda3",
   "metadata": {},
   "outputs": [
    {
     "name": "stdin",
     "output_type": "stream",
     "text": [
      "Type a number  43\n"
     ]
    },
    {
     "name": "stdout",
     "output_type": "stream",
     "text": [
      "43\n"
     ]
    },
    {
     "data": {
      "text/plain": [
       "int"
      ]
     },
     "execution_count": 11,
     "metadata": {},
     "output_type": "execute_result"
    }
   ],
   "source": [
    "x = int(input('Type a number '))  #int i.e. integer number\n",
    "print(x)\n",
    "type(x)"
   ]
  },
  {
   "cell_type": "markdown",
   "id": "128d448e",
   "metadata": {},
   "source": [
    "## Tasks:"
   ]
  },
  {
   "cell_type": "markdown",
   "id": "581c30bd",
   "metadata": {},
   "source": [
    "1. The discriminant $b^2 – 4ac$ determines the nature of the roots of a quadratic equation $ax^2 + bx +c = 0$. \n",
    "   \n",
    "   \n",
    "Write some code that asks for the coefficients a, b and c from the user, and calculates\n",
    "the discriminant $b^2 – 4ac$.\n",
    "Perform a test to see whether the discriminant is zero, positive or negative and display a message to the\n",
    "user saying which category it falls into."
   ]
  },
  {
   "cell_type": "code",
   "execution_count": 5,
   "id": "a4017c46",
   "metadata": {},
   "outputs": [
    {
     "name": "stdin",
     "output_type": "stream",
     "text": [
      "Enter a 0.1\n",
      "Enter b 23\n",
      "Enter c 1\n"
     ]
    },
    {
     "name": "stdout",
     "output_type": "stream",
     "text": [
      "Discrimant is positive\n"
     ]
    }
   ],
   "source": [
    "a = float(input(\"Enter a\"))\n",
    "b = float(input(\"Enter b\"))\n",
    "c = float(input(\"Enter c\"))\n",
    "disc = b**2 - 4 * a * c\n",
    "if disc == 0:\n",
    "    print(\"Discrimant is zero\")\n",
    "elif disc > 0:\n",
    "    print(\"Discrimant is positive\")\n",
    "else:\n",
    "    print(\"Discrimant is negative\")\n"
   ]
  },
  {
   "cell_type": "raw",
   "id": "165a5444",
   "metadata": {},
   "source": [
    "2. A student has a rule for what to buy depending on the budget £m available:\n",
    "    m > 100       Clothes\n",
    "    100 > m > 10  Food\n",
    "    10>m>0        Drink\n",
    "\n",
    "Write some code that asks the input to enter the budget. Test the input with if, elif, else statements to print out the correct purchase choice according to the rules above."
   ]
  },
  {
   "cell_type": "code",
   "execution_count": 15,
   "id": "613f311c",
   "metadata": {},
   "outputs": [
    {
     "name": "stdin",
     "output_type": "stream",
     "text": [
      "Enter budget 11\n"
     ]
    },
    {
     "name": "stdout",
     "output_type": "stream",
     "text": [
      "Buy food\n"
     ]
    }
   ],
   "source": [
    "m = float(input(\"Enter budget\"))\n",
    "if m > 100:\n",
    "    print(\"Buy clothes\")\n",
    "elif 100 > m > 10:\n",
    "    print(\"Buy food\")\n",
    "elif 10>m>0: \n",
    "    print(\"Buy drink\")\n",
    "else:\n",
    "    print(\"No idea!\")\n"
   ]
  },
  {
   "cell_type": "raw",
   "id": "827d3f4e",
   "metadata": {},
   "source": [
    "3. A criterion for data selection stipulates that a data item is rejected if it is greater than 3.  Write a script that prompts the user for 10 decimal numbers (using a for-loop to repeatedly ask for information).\n",
    "Using another for-loop, test each number and display the total number of rejected data items.\n"
   ]
  },
  {
   "cell_type": "code",
   "execution_count": 17,
   "id": "eab0febd",
   "metadata": {},
   "outputs": [
    {
     "name": "stdin",
     "output_type": "stream",
     "text": [
      "Enter a number 3\n",
      "Enter a number 4\n",
      "Enter a number 3\n",
      "Enter a number 5\n",
      "Enter a number 6\n",
      "Enter a number 7\n",
      "Enter a number 6\n",
      "Enter a number 5\n",
      "Enter a number 4\n",
      "Enter a number 5\n"
     ]
    },
    {
     "name": "stdout",
     "output_type": "stream",
     "text": [
      "Total number of rejected items is  8\n"
     ]
    }
   ],
   "source": [
    "data = np.zeros(10)\n",
    "for i in range(10):\n",
    "    data[i] = float(input(\"Enter a number\"))\n",
    "\n",
    "number_rejects = 0\n",
    "for i in range(10):\n",
    "    if data[i] > 3:\n",
    "        number_rejects += 1\n",
    "print(\"Total number of rejected items is \", number_rejects)"
   ]
  },
  {
   "cell_type": "raw",
   "id": "c830861a",
   "metadata": {},
   "source": [
    "4. Severe storms occasionally occur in the UK. Definitions vary, but for our purposes we will assume that a storm is characterised by wind speeds in excess of 50 mph sustained for at least 4 consecutive hours.\n",
    "Data from a one-day record of wind speed is given below: there are 24 values, one for each hour of the day.\n",
    "\n",
    "Write a function which displays to the screen whether a storm occurred, and takes as its only argument a vector of wind speeds.\n",
    "\n",
    "Make up your own wind speed vector to test your function."
   ]
  },
  {
   "cell_type": "code",
   "execution_count": 25,
   "id": "d90c610e",
   "metadata": {},
   "outputs": [
    {
     "data": {
      "text/plain": [
       "24"
      ]
     },
     "execution_count": 25,
     "metadata": {},
     "output_type": "execute_result"
    }
   ],
   "source": [
    "wind_speeds = np.array([30,31,20,25,24,19,34,45,50,51,49,51,52,58,57,49,43,42,39,32,33,31,30,29])\n",
    "len(wind_speeds)"
   ]
  },
  {
   "cell_type": "code",
   "execution_count": 36,
   "id": "fd2de93b",
   "metadata": {},
   "outputs": [
    {
     "name": "stdout",
     "output_type": "stream",
     "text": [
      "Storm occurred\n"
     ]
    }
   ],
   "source": [
    "def test_vector(wind):\n",
    "    ''' Function to test the input vector wind to see if a storm occurred'''\n",
    "    \n",
    "    for i in range(len(wind)-3):  #remember indents..\n",
    "        if wind[i] > 50 and wind[i+1] > 50 and wind[i+2] > 50 and wind[i+3] > 50:\n",
    "            print(\"Storm occurred\")\n",
    "\n",
    "test_vector(wind_speeds)"
   ]
  },
  {
   "cell_type": "markdown",
   "id": "15377721",
   "metadata": {},
   "source": [
    "## Formatted output"
   ]
  },
  {
   "cell_type": "code",
   "execution_count": 60,
   "id": "f6087ff3",
   "metadata": {},
   "outputs": [
    {
     "name": "stdout",
     "output_type": "stream",
     "text": [
      "x takes the value  3\n",
      "x takes the value  3  while y takes the value of  5\n"
     ]
    }
   ],
   "source": [
    "# easiest way to output variables:\n",
    "x = 3\n",
    "y = 5\n",
    "print('x takes the value ', x)\n",
    "print('x takes the value ', x, ' while y takes the value of ', y)\n"
   ]
  },
  {
   "cell_type": "code",
   "execution_count": null,
   "id": "1090f0b5",
   "metadata": {},
   "outputs": [],
   "source": []
  },
  {
   "cell_type": "markdown",
   "id": "55059abe",
   "metadata": {
    "tags": []
   },
   "source": [
    "#### Formatted output: method 1"
   ]
  },
  {
   "cell_type": "code",
   "execution_count": 73,
   "id": "0ea0da2a",
   "metadata": {},
   "outputs": [
    {
     "name": "stdout",
     "output_type": "stream",
     "text": [
      "The value of pi is approximately 3.142.\n",
      "The value of 0.01 pi is approximately 0.0314159265.\n",
      "The value of 1,000,000 pi is approximately 3.142e+06.\n",
      "The value of pi is approximately 3\n"
     ]
    }
   ],
   "source": [
    "print('The value of pi is approximately %.3f.' % np.pi)  # 3 decimal places\n",
    "print('The value of 0.01 pi is approximately %.10f.' % (np.pi*0.01)) # 10 decimal places\n",
    "print('The value of 1,000,000 pi is approximately %.3e.' % (np.pi*1e6)) #exponential notation, 3 decimal places.\n",
    "print('The value of pi is approximately %d' % np.pi)  # integer\n"
   ]
  },
  {
   "cell_type": "code",
   "execution_count": 76,
   "id": "f51f195c",
   "metadata": {
    "tags": []
   },
   "outputs": [
    {
     "name": "stdout",
     "output_type": "stream",
     "text": [
      "The values of x and y are 2 and 3\n",
      "\n"
     ]
    }
   ],
   "source": [
    "x,y = 2,3\n",
    "print('The values of x and y are %d and %d\\n'% (x,y) )"
   ]
  },
  {
   "cell_type": "markdown",
   "id": "373993a4",
   "metadata": {},
   "source": [
    "#### Formatted output: method 2"
   ]
  },
  {
   "cell_type": "code",
   "execution_count": 40,
   "id": "973b2d59",
   "metadata": {},
   "outputs": [
    {
     "name": "stdout",
     "output_type": "stream",
     "text": [
      "bread and cheese\n"
     ]
    }
   ],
   "source": [
    "print('{0} and {1}'.format('bread', 'cheese'))"
   ]
  },
  {
   "cell_type": "code",
   "execution_count": 77,
   "id": "2da29232",
   "metadata": {},
   "outputs": [
    {
     "name": "stdout",
     "output_type": "stream",
     "text": [
      "cheese and bread\n"
     ]
    }
   ],
   "source": [
    "print('{1} and {0}'.format('bread', 'cheese'))"
   ]
  },
  {
   "cell_type": "code",
   "execution_count": 78,
   "id": "a27b8936",
   "metadata": {},
   "outputs": [
    {
     "name": "stdout",
     "output_type": "stream",
     "text": [
      "2 and 3\n"
     ]
    }
   ],
   "source": [
    "print('{0:d} and {1:d}'.format(x, y))"
   ]
  },
  {
   "cell_type": "code",
   "execution_count": 80,
   "id": "0a8048a5",
   "metadata": {},
   "outputs": [
    {
     "name": "stdout",
     "output_type": "stream",
     "text": [
      "2.000 and 3.00000\n"
     ]
    }
   ],
   "source": [
    "print('{0:.3f} and {1:.5f}'.format(x, y))"
   ]
  },
  {
   "cell_type": "code",
   "execution_count": 81,
   "id": "493cf153",
   "metadata": {
    "tags": []
   },
   "outputs": [
    {
     "name": "stdout",
     "output_type": "stream",
     "text": [
      "   0,    0\n",
      "   1,    1\n",
      "   2,    4\n",
      "   3,    9\n",
      "   4,   16\n",
      "   5,   25\n",
      "   6,   36\n",
      "   7,   49\n",
      "   8,   64\n",
      "   9,   81\n"
     ]
    }
   ],
   "source": [
    "for i in range(10):\n",
    "    print('{0:4d}, {1:4d}'.format(i,i**2))"
   ]
  },
  {
   "cell_type": "markdown",
   "id": "9dea4156",
   "metadata": {},
   "source": [
    "## Tasks"
   ]
  },
  {
   "cell_type": "markdown",
   "id": "eb6affb2",
   "metadata": {},
   "source": [
    "1. Prompt the user to enter a decimal number over 1000. Display the number to 3 decimal places, and also using exponential notation to 3 decimal places.\n",
    "\n",
    "2. The vector rho defined below represents density. All its values should be positive, but you suspect there might be a mistake. \n",
    "Loop over its elements one by one. If the ith element is negative then display the element (to 2 decimal places), and its index i, to the screen with some explanatory text.\n",
    "If you find a negative element, then there is no need to continue checking and you can break out of the loop.\n"
   ]
  },
  {
   "cell_type": "code",
   "execution_count": 29,
   "id": "0b9dbbe6",
   "metadata": {},
   "outputs": [],
   "source": [
    "rho = np.array([0.1197403 , 1.44653085, 0.03276663, 0.24733591, 0.27777791 ,1.51892745,\n",
    " 0.24998435 ,0.43247599 ,-0.78166048 ,1.18592775, 1.59526166 ,0.48598086,\n",
    " 0.2063809 , 1.3777237,  0.08531313, 0.46286035 ,1.37174568, 0.38089566,\n",
    " 1.67738095 ,0.66165392 ,0.76123835 ,1.86753907 ,0.27782602 ,1.38956582,\n",
    " 0.34145884, 0.67803824 ,1.7586825  ,1.5506353 , 0.5955315 , 0.58244926,\n",
    " 0.37391353, 0.41032079 ,0.34716825 ,0.15980737, 0.96261499 ,0.16353987])\n"
   ]
  },
  {
   "cell_type": "code",
   "execution_count": 31,
   "id": "7af63304",
   "metadata": {},
   "outputs": [
    {
     "name": "stdin",
     "output_type": "stream",
     "text": [
      "Enter a number above 1000:  342434.2343432\n"
     ]
    },
    {
     "name": "stdout",
     "output_type": "stream",
     "text": [
      "Value is 342434.234\n",
      "Value is 3.424e+05\n"
     ]
    }
   ],
   "source": [
    "x = float(input(\"Enter a number above 1000: \"))\n",
    "print(\"Value is {0:.3f}\".format(x) )\n",
    "print(\"Value is {0:.3e}\".format(x) )"
   ]
  },
  {
   "cell_type": "code",
   "execution_count": 30,
   "id": "61a974b6",
   "metadata": {},
   "outputs": [
    {
     "name": "stdout",
     "output_type": "stream",
     "text": [
      "Error: element 8 has a value of -0.78\n"
     ]
    }
   ],
   "source": [
    "for i in range(len(rho)):\n",
    "    if rho[i] < 0:\n",
    "        print(\"Error: element {0:d} has a value of {1:.2f}\".format(i,rho[i]) )\n",
    "        break\n",
    "        "
   ]
  },
  {
   "cell_type": "code",
   "execution_count": null,
   "id": "5b6f7dfb",
   "metadata": {},
   "outputs": [],
   "source": []
  },
  {
   "cell_type": "raw",
   "id": "c91b9347",
   "metadata": {},
   "source": [
    "3. Write some code to reproduce the following output using a loop and formatted print:\n",
    "1 * Pi = 3.141593\n",
    "2 * Pi = 6.283185\n",
    "3 * Pi = 9.424778\n",
    "4 * Pi = 12.566371\n",
    "5 * Pi = 15.707963\n",
    "6 * Pi = 18.849556\n",
    "7 * Pi = 21.991149\n",
    "8 * Pi = 25.132741\n",
    "9 * Pi = 28.274334\n",
    "10 * Pi = 31.415927"
   ]
  },
  {
   "cell_type": "code",
   "execution_count": 33,
   "id": "3db4b9aa",
   "metadata": {},
   "outputs": [
    {
     "name": "stdout",
     "output_type": "stream",
     "text": [
      "1 * Pi = 3.141593\n",
      "2 * Pi = 6.283185\n",
      "3 * Pi = 9.424778\n",
      "4 * Pi = 12.566371\n",
      "5 * Pi = 15.707963\n",
      "6 * Pi = 18.849556\n",
      "7 * Pi = 21.991149\n",
      "8 * Pi = 25.132741\n",
      "9 * Pi = 28.274334\n",
      "10 * Pi = 31.415927\n"
     ]
    }
   ],
   "source": [
    "for i in range(1,11):\n",
    "    print(\"{0:d} * Pi = {1:.6f}\".format(i,i*np.pi))"
   ]
  },
  {
   "cell_type": "code",
   "execution_count": null,
   "id": "c61313da",
   "metadata": {},
   "outputs": [],
   "source": []
  }
 ],
 "metadata": {
  "kernelspec": {
   "display_name": "Python 3 (ipykernel)",
   "language": "python",
   "name": "python3"
  },
  "language_info": {
   "codemirror_mode": {
    "name": "ipython",
    "version": 3
   },
   "file_extension": ".py",
   "mimetype": "text/x-python",
   "name": "python",
   "nbconvert_exporter": "python",
   "pygments_lexer": "ipython3",
   "version": "3.11.5"
  }
 },
 "nbformat": 4,
 "nbformat_minor": 5
}
