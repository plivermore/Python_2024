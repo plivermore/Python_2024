{
 "cells": [
  {
   "cell_type": "markdown",
   "metadata": {},
   "source": [
    "## Python 3"
   ]
  },
  {
   "cell_type": "markdown",
   "metadata": {},
   "source": [
    "In this workshop, we'll look at\n",
    "1. Vectorised calculations\n",
    "2. Loops\n"
   ]
  },
  {
   "cell_type": "markdown",
   "metadata": {},
   "source": [
    "## Vectorised calculations"
   ]
  },
  {
   "cell_type": "markdown",
   "metadata": {},
   "source": [
    "**Vectorised calculations** refer to calculations performed on vectors, rather than on individual elements. Often they are faster as the computer can treat the entire vector at once, rather than repeatedly doing calculations. Some examples:"
   ]
  },
  {
   "cell_type": "code",
   "execution_count": 1,
   "metadata": {},
   "outputs": [
    {
     "data": {
      "text/plain": [
       "[<matplotlib.lines.Line2D at 0x7ff9883d90d0>]"
      ]
     },
     "execution_count": 1,
     "metadata": {},
     "output_type": "execute_result"
    },
    {
     "data": {
      "image/png": "[encoded data removed]",
      "text/plain": [
       "<Figure size 432x288 with 1 Axes>"
      ]
     },
     "metadata": {
      "needs_background": "light"
     },
     "output_type": "display_data"
    }
   ],
   "source": [
    "import numpy as np\n",
    "import matplotlib.pylab as plt\n",
    " \n",
    "x = np.linspace(0, 2* np.pi, 1000)\n",
    "y = np.sin(x)  #This is vectorised calculation, as we pass the entire vector at once.\n",
    "plt.figure()\n",
    "plt.plot(x,y)"
   ]
  },
  {
   "cell_type": "code",
   "execution_count": 5,
   "metadata": {},
   "outputs": [
    {
     "data": {
      "text/plain": [
       "[<matplotlib.lines.Line2D at 0x7fda684c0ad0>]"
      ]
     },
     "execution_count": 5,
     "metadata": {},
     "output_type": "execute_result"
    },
    {
     "data": {
      "image/png": "[encoded data removed]",
      "text/plain": [
       "<Figure size 432x288 with 1 Axes>"
      ]
     },
     "metadata": {
      "needs_background": "light"
     },
     "output_type": "display_data"
    }
   ],
   "source": [
    "times = np.linspace(0,300,100)\n",
    "subsidence = 140 + 0.15 * (np.exp(-times/150) - 1)  #this is also a vectorised calculation, taken from inverse theory, week 3.\n",
    "plt.figure()\n",
    "plt.plot(times, subsidence)"
   ]
  },
  {
   "cell_type": "markdown",
   "metadata": {},
   "source": [
    "### Operations on arrays"
   ]
  },
  {
   "cell_type": "markdown",
   "metadata": {},
   "source": [
    "Last week, you were asked to calculate operations on columns of an array:"
   ]
  },
  {
   "cell_type": "code",
   "execution_count": 7,
   "metadata": {},
   "outputs": [
    {
     "name": "stdout",
     "output_type": "stream",
     "text": [
      "Stresses: mean, std:\n",
      "-137.81787425 5.722073196660188\n",
      "-138.91235425 4.121978802196457\n",
      "-138.159896 4.02178484595882\n",
      "-0.0168585 3.1999669307631526\n",
      "0.10767925000000002 2.192465318167984\n",
      "-0.11403424999999999 2.9544545311405517\n"
     ]
    }
   ],
   "source": [
    "data = np.loadtxt('stress.dat')\n",
    "time = data[:,0]\n",
    "comp_stress_x = data[:,1]\n",
    "comp_stress_y = data[:,2]\n",
    "comp_stress_z = data[:,3]\n",
    "shear_stress_x = data[:,4]\n",
    "shear_stress_y = data[:,5]\n",
    "shear_stress_z = data[:,6]\n",
    "\n",
    "print('Stresses: mean, std:')\n",
    "print( comp_stress_x.mean(), comp_stress_x.std() )\n",
    "print( comp_stress_y.mean(), comp_stress_y.std() )\n",
    "print( comp_stress_z.mean(), comp_stress_z.std() )\n",
    "print( shear_stress_x.mean(), shear_stress_x.std() )\n",
    "print( shear_stress_y.mean(), shear_stress_y.std() )\n",
    "print( shear_stress_z.mean(), shear_stress_z.std() )\n"
   ]
  },
  {
   "cell_type": "code",
   "execution_count": 14,
   "metadata": {},
   "outputs": [
    {
     "name": "stdout",
     "output_type": "stream",
     "text": [
      "[-1.37817874e+02 -1.38912354e+02 -1.38159896e+02 -1.68585000e-02\n",
      "  1.07679250e-01 -1.14034250e-01]\n"
     ]
    }
   ],
   "source": [
    "stripped_data = data[:,1:]\n",
    "means = stripped_data.mean(axis = 0)   #axis = 0 means column-wise\n",
    "print(means)"
   ]
  },
  {
   "cell_type": "code",
   "execution_count": 13,
   "metadata": {},
   "outputs": [
    {
     "name": "stdout",
     "output_type": "stream",
     "text": [
      "[-1.37817874e+02 -1.38912354e+02 -1.38159896e+02 -1.68585000e-02\n",
      "  1.07679250e-01 -1.14034250e-01]\n"
     ]
    }
   ],
   "source": [
    "print(  data[:,1:].mean(axis = 0) )  #or all in one line"
   ]
  },
  {
   "cell_type": "code",
   "execution_count": 15,
   "metadata": {},
   "outputs": [
    {
     "name": "stdout",
     "output_type": "stream",
     "text": [
      "[-67.16033333 -67.0995     -67.2155     ... -68.6635     -68.60433333\n",
      " -68.70816667]\n"
     ]
    }
   ],
   "source": [
    "print(  data[:,1:].mean(axis = 1) )  #axis = 1 means row-wise"
   ]
  },
  {
   "cell_type": "code",
   "execution_count": 18,
   "metadata": {},
   "outputs": [
    {
     "name": "stdout",
     "output_type": "stream",
     "text": [
      "-69.152223\n"
     ]
    }
   ],
   "source": [
    "print(  data[:,1:].mean()  )  #defaults to \"flattening array\" into a vector, then returning the (single) mean value.\n"
   ]
  },
  {
   "cell_type": "code",
   "execution_count": 19,
   "metadata": {},
   "outputs": [
    {
     "name": "stdout",
     "output_type": "stream",
     "text": [
      "Help on function mean in module numpy:\n",
      "\n",
      "mean(a, axis=None, dtype=None, out=None, keepdims=<no value>)\n",
      "    Compute the arithmetic mean along the specified axis.\n",
      "    \n",
      "    Returns the average of the array elements.  The average is taken over\n",
      "    the flattened array by default, otherwise over the specified axis.\n",
      "    `float64` intermediate and return values are used for integer inputs.\n",
      "    \n",
      "    Parameters\n",
      "    ----------\n",
      "    a : array_like\n",
      "        Array containing numbers whose mean is desired. If `a` is not an\n",
      "        array, a conversion is attempted.\n",
      "    axis : None or int or tuple of ints, optional\n",
      "        Axis or axes along which the means are computed. The default is to\n",
      "        compute the mean of the flattened array.\n",
      "    \n",
      "        .. versionadded:: 1.7.0\n",
      "    \n",
      "        If this is a tuple of ints, a mean is performed over multiple axes,\n",
      "        instead of a single axis or all the axes as before.\n",
      "    dtype : data-type, optional\n",
      "        Type to use in computing the mean.  For integer inputs, the default\n",
      "        is `float64`; for floating point inputs, it is the same as the\n",
      "        input dtype.\n",
      "    out : ndarray, optional\n",
      "        Alternate output array in which to place the result.  The default\n",
      "        is ``None``; if provided, it must have the same shape as the\n",
      "        expected output, but the type will be cast if necessary.\n",
      "        See `ufuncs-output-type` for more details.\n",
      "    \n",
      "    keepdims : bool, optional\n",
      "        If this is set to True, the axes which are reduced are left\n",
      "        in the result as dimensions with size one. With this option,\n",
      "        the result will broadcast correctly against the input array.\n",
      "    \n",
      "        If the default value is passed, then `keepdims` will not be\n",
      "        passed through to the `mean` method of sub-classes of\n",
      "        `ndarray`, however any non-default value will be.  If the\n",
      "        sub-class' method does not implement `keepdims` any\n",
      "        exceptions will be raised.\n",
      "    \n",
      "    Returns\n",
      "    -------\n",
      "    m : ndarray, see dtype parameter above\n",
      "        If `out=None`, returns a new array containing the mean values,\n",
      "        otherwise a reference to the output array is returned.\n",
      "    \n",
      "    See Also\n",
      "    --------\n",
      "    average : Weighted average\n",
      "    std, var, nanmean, nanstd, nanvar\n",
      "    \n",
      "    Notes\n",
      "    -----\n",
      "    The arithmetic mean is the sum of the elements along the axis divided\n",
      "    by the number of elements.\n",
      "    \n",
      "    Note that for floating-point input, the mean is computed using the\n",
      "    same precision the input has.  Depending on the input data, this can\n",
      "    cause the results to be inaccurate, especially for `float32` (see\n",
      "    example below).  Specifying a higher-precision accumulator using the\n",
      "    `dtype` keyword can alleviate this issue.\n",
      "    \n",
      "    By default, `float16` results are computed using `float32` intermediates\n",
      "    for extra precision.\n",
      "    \n",
      "    Examples\n",
      "    --------\n",
      "    >>> a = np.array([[1, 2], [3, 4]])\n",
      "    >>> np.mean(a)\n",
      "    2.5\n",
      "    >>> np.mean(a, axis=0)\n",
      "    array([2., 3.])\n",
      "    >>> np.mean(a, axis=1)\n",
      "    array([1.5, 3.5])\n",
      "    \n",
      "    In single precision, `mean` can be inaccurate:\n",
      "    \n",
      "    >>> a = np.zeros((2, 512*512), dtype=np.float32)\n",
      "    >>> a[0, :] = 1.0\n",
      "    >>> a[1, :] = 0.1\n",
      "    >>> np.mean(a)\n",
      "    0.54999924\n",
      "    \n",
      "    Computing the mean in float64 is more accurate:\n",
      "    \n",
      "    >>> np.mean(a, dtype=np.float64)\n",
      "    0.55000000074505806 # may vary\n",
      "\n"
     ]
    }
   ],
   "source": [
    "help (np.mean)"
   ]
  },
  {
   "cell_type": "markdown",
   "metadata": {},
   "source": [
    "### Loops"
   ]
  },
  {
   "cell_type": "markdown",
   "metadata": {},
   "source": [
    "The syntax for a simple loop is\n",
    "\n",
    "for <var> in <object>:\n",
    "[tab]  commands\n",
    "    "
   ]
  },
  {
   "cell_type": "code",
   "execution_count": 22,
   "metadata": {},
   "outputs": [
    {
     "name": "stdout",
     "output_type": "stream",
     "text": [
      "0\n",
      "1\n",
      "2\n",
      "3\n",
      "4\n",
      "5\n",
      "6\n",
      "7\n",
      "8\n",
      "9\n"
     ]
    }
   ],
   "source": [
    "for i in range(10):\n",
    "    print(i)"
   ]
  },
  {
   "cell_type": "code",
   "execution_count": 24,
   "metadata": {},
   "outputs": [
    {
     "name": "stdout",
     "output_type": "stream",
     "text": [
      "0\n",
      "1\n",
      "2\n",
      "3\n",
      "4\n",
      "5\n",
      "6\n",
      "7\n",
      "8\n",
      "9\n"
     ]
    }
   ],
   "source": [
    "for i in np.arange(10):\n",
    "    print(i)"
   ]
  },
  {
   "cell_type": "code",
   "execution_count": 36,
   "metadata": {},
   "outputs": [
    {
     "name": "stdout",
     "output_type": "stream",
     "text": [
      "Hello\n",
      "Hello\n",
      "Hello\n",
      "Hello\n"
     ]
    }
   ],
   "source": [
    "for i in range(4):\n",
    "    print('Hello')"
   ]
  },
  {
   "cell_type": "code",
   "execution_count": 26,
   "metadata": {},
   "outputs": [
    {
     "name": "stdout",
     "output_type": "stream",
     "text": [
      "0\n",
      "1\n",
      "2\n",
      "3\n"
     ]
    }
   ],
   "source": [
    "my_list = [0,1,2,3]\n",
    "for j in my_list:\n",
    "    print(j)"
   ]
  },
  {
   "cell_type": "code",
   "execution_count": 34,
   "metadata": {},
   "outputs": [
    {
     "name": "stdout",
     "output_type": "stream",
     "text": [
      "[-1.53817618 -1.08302843 -1.55667639  0.7657568  -0.96232853 -0.71153906]\n"
     ]
    }
   ],
   "source": [
    "noise = np.zeros(6)\n",
    "import random\n",
    "for j in range( len(noise)):\n",
    "    noise[j] = random.normalvariate(0,1)\n",
    "print(noise)"
   ]
  },
  {
   "cell_type": "code",
   "execution_count": 35,
   "metadata": {},
   "outputs": [
    {
     "name": "stdout",
     "output_type": "stream",
     "text": [
      "[ 1.16453876 -0.53457448 -1.62804865 -4.84218738 -2.72389195  5.3817513 ]\n"
     ]
    }
   ],
   "source": [
    "noise = np.zeros(6)\n",
    "sd = np.array([1,2,3,4,5,6])\n",
    "import random\n",
    "for j in range( len(noise)):\n",
    "    noise[j] = random.normalvariate(0,sd[j])\n",
    "print(noise)\n"
   ]
  },
  {
   "cell_type": "code",
   "execution_count": 63,
   "metadata": {},
   "outputs": [
    {
     "name": "stdout",
     "output_type": "stream",
     "text": [
      "[ 5  6  7  8  9 10]\n",
      "355\n",
      "355\n"
     ]
    }
   ],
   "source": [
    "# Adding up the square numbers: 5^2, 6^2, .... 10^2\n",
    "numbers = np.arange(5,11)\n",
    "print(numbers)\n",
    "\n",
    "# Two ways: sum a vector\n",
    "total = numbers**2\n",
    "print( total.sum() )\n",
    "\n",
    "# or count using a loop\n",
    "total = 0 \n",
    "for i in range(5,11):\n",
    "    total = total + i**2\n",
    "print(total)"
   ]
  },
  {
   "cell_type": "markdown",
   "metadata": {},
   "source": [
    "### Shorthand for accumulation"
   ]
  },
  {
   "cell_type": "code",
   "execution_count": 61,
   "metadata": {},
   "outputs": [
    {
     "name": "stdout",
     "output_type": "stream",
     "text": [
      "385\n"
     ]
    }
   ],
   "source": [
    "total = 0 \n",
    "for i in range(11):\n",
    "    total +=  i**2  # is shorthand for total = total + i**2\n",
    "print(total)"
   ]
  },
  {
   "cell_type": "markdown",
   "metadata": {},
   "source": [
    "### Nested loops"
   ]
  },
  {
   "cell_type": "code",
   "execution_count": null,
   "metadata": {},
   "outputs": [],
   "source": [
    "Sometimes its helpful to nest loops inside each other."
   ]
  },
  {
   "cell_type": "code",
   "execution_count": 46,
   "metadata": {},
   "outputs": [
    {
     "name": "stdout",
     "output_type": "stream",
     "text": [
      "[[1 2]\n",
      " [3 4]]\n",
      "(2, 2)\n"
     ]
    }
   ],
   "source": [
    "A = np.array( [[1,2],[3,4]])\n",
    "print(A)\n",
    "\n",
    "print( A. shape )"
   ]
  },
  {
   "cell_type": "code",
   "execution_count": 47,
   "metadata": {},
   "outputs": [
    {
     "name": "stdout",
     "output_type": "stream",
     "text": [
      "1\n",
      "2\n",
      "3\n",
      "4\n"
     ]
    }
   ],
   "source": [
    "for i in range(A.shape[0]):\n",
    "    for j in range(A.shape[1]):   #need a different loop variable (or index) here. You can't use 'i' twice.\n",
    "        print(A[i,j])    #indent twice."
   ]
  },
  {
   "cell_type": "code",
   "execution_count": null,
   "metadata": {},
   "outputs": [],
   "source": [
    "for i in range(2):  #This the same, but not as generalisable. If we change the size of A, it will not work as expected.\n",
    "    for j in range(2):\n",
    "        print(A[i,j])"
   ]
  },
  {
   "cell_type": "markdown",
   "metadata": {},
   "source": [
    "## Tasks"
   ]
  },
  {
   "cell_type": "markdown",
   "metadata": {},
   "source": [
    "0. Using a vectorised calculation, display to the screen the column-wise maximum values of the rightmost 3 data-columns of the file stress.dat."
   ]
  },
  {
   "cell_type": "code",
   "execution_count": 4,
   "metadata": {},
   "outputs": [
    {
     "name": "stdout",
     "output_type": "stream",
     "text": [
      "[8.75  6.851 7.995]\n"
     ]
    }
   ],
   "source": [
    "data = np.loadtxt('stress.dat')\n",
    "\n",
    "print( data[:,4:].max( axis = 0)) "
   ]
  },
  {
   "cell_type": "markdown",
   "metadata": {},
   "source": [
    "1. Here, we will calculate sin(x) where x is a vector, using a loop. \n",
    "    1. Using np.linspace, define the vector x of length 10 over the interval $[0,2\\pi]$. \n",
    "    2. Using np.zeros, define a vector y of zeros, of length 10.\n",
    "    3. **Using a loop**, take each element x[i] of x at a time, calculate  sin(x[i]), and store it in the corresponding position of y.\n",
    "    4. After the loop is complete, display y to the screen.\n",
    "    5. Check that you get the same answer when vectorising, using    print( np.sin(x))\n",
    "    "
   ]
  },
  {
   "cell_type": "code",
   "execution_count": 56,
   "metadata": {},
   "outputs": [
    {
     "name": "stdout",
     "output_type": "stream",
     "text": [
      "[ 0.00000000e+00  6.42787610e-01  9.84807753e-01  8.66025404e-01\n",
      "  3.42020143e-01 -3.42020143e-01 -8.66025404e-01 -9.84807753e-01\n",
      " -6.42787610e-01 -2.44929360e-16]\n",
      "[ 0.00000000e+00  6.42787610e-01  9.84807753e-01  8.66025404e-01\n",
      "  3.42020143e-01 -3.42020143e-01 -8.66025404e-01 -9.84807753e-01\n",
      " -6.42787610e-01 -2.44929360e-16]\n"
     ]
    }
   ],
   "source": [
    "x = np.linspace(0, 2 * np.pi, 10)\n",
    "y = np.zeros(10)\n",
    "for i in range(10):\n",
    "    y[i] = np.sin(x[i])\n",
    "print(y)\n",
    "print( np.sin(x))"
   ]
  },
  {
   "cell_type": "markdown",
   "metadata": {},
   "source": [
    "2. Using a for-loop, calculate the sum\n",
    "$$ T = 10^3 + 11^3 + 12^3 +...+ 30^3$$"
   ]
  },
  {
   "cell_type": "code",
   "execution_count": 60,
   "metadata": {},
   "outputs": [
    {
     "name": "stdout",
     "output_type": "stream",
     "text": [
      "214200\n"
     ]
    }
   ],
   "source": [
    "total = 0\n",
    "for i in range(10,31,1):\n",
    "    total += i**3\n",
    "print(total)"
   ]
  },
  {
   "cell_type": "markdown",
   "metadata": {},
   "source": [
    "3. The natural logarithm of 2 (in Python: np.log(2)) is given by the infinite series\n",
    "$$ 1 - \\frac{1}{2} + \\frac{1}{3} - \\frac{1}{4} + ....$$\n",
    "    1. Write a for-loop to evaluate this series to 10 terms. Note that the ith term is (-1)**i/(i+1), for i = 0,1,2,3\n",
    "    2. Display the error to the screen (the difference of your calculated value and the correct value)\n",
    "    3. How many terms do you need to compute the value correct to $10^{-3}$?"
   ]
  },
  {
   "cell_type": "code",
   "execution_count": 83,
   "metadata": {},
   "outputs": [
    {
     "name": "stdout",
     "output_type": "stream",
     "text": [
      "0.7163904507944756\n",
      "0.023243270234530322\n"
     ]
    }
   ],
   "source": [
    "L = 0.0\n",
    "for i in range(21):\n",
    "    L += (-1)**i/(i+1)\n",
    "print(L)\n",
    "print( abs( L - np.log(2)))"
   ]
  },
  {
   "cell_type": "code",
   "execution_count": 85,
   "metadata": {},
   "outputs": [
    {
     "name": "stdout",
     "output_type": "stream",
     "text": [
      "0.7163904507944756\n",
      "0.047619047619047616\n"
     ]
    }
   ],
   "source": [
    "L = 0.0\n",
    "for i in range(21):\n",
    "    L += (-1)**i/(i+1)\n",
    "print(L)\n",
    "\n",
    "L = 0.0  # Can you spot the mistake here?\n",
    "for i in range(21):\n",
    "    L =+ (-1)**i/(i+1)\n",
    "print(L)\n"
   ]
  },
  {
   "cell_type": "code",
   "execution_count": 93,
   "metadata": {},
   "outputs": [
    {
     "name": "stdout",
     "output_type": "stream",
     "text": [
      "0.0010193669326130639\n",
      "0.0009990000019991507\n"
     ]
    }
   ],
   "source": [
    "L = 0.0\n",
    "for i in range(490):\n",
    "    L += (-1)**i/(i+1)\n",
    "print( abs( L - np.log(2)))\n",
    "\n",
    "L = 0.0\n",
    "for i in range(500):  #you need about 500 terms. 490 is not quite enough.\n",
    "    L += (-1)**i/(i+1)\n",
    "print( abs( L - np.log(2)))\n"
   ]
  },
  {
   "cell_type": "markdown",
   "metadata": {},
   "source": [
    "4. The trapezium rule to integrate a 1D function over an interval discretises the domain by $N$ equally spaced values of $x$ : $x_1, x_2, ....x_N$. The formula for the area is then\n",
    "$$ A = \\frac{h}{2} \\big[ f(x_1) + f(x_N) +  2f(x_2) + 2f(x_3) + ... + 2f(x_{N-1})\\big]$$\n",
    "where h is the (equal) spacing between the $x$ values.\n",
    "\n",
    "Based on the trapezium rule, create a function that calcuates the integral of $\\sin(x)$ over the range $[0, \\pi]$, using a for-loop. You can add the end points explicitly, but loop over the inner values.  The function should take as argument N, and return an estimate of the integral.\n",
    "\n",
    "Using another for-loop, calculate the error (of your function, compared to the analytic value of 2) as a function of N.\n",
    "Make a plot of your results."
   ]
  },
  {
   "cell_type": "code",
   "execution_count": 3,
   "metadata": {},
   "outputs": [
    {
     "data": {
      "text/plain": [
       "Text(0, 0.5, 'Error')"
      ]
     },
     "execution_count": 3,
     "metadata": {},
     "output_type": "execute_result"
    },
    {
     "data": {
      "image/png": "[encoded data removed]",
      "text/plain": [
       "<Figure size 432x288 with 1 Axes>"
      ]
     },
     "metadata": {
      "needs_background": "light"
     },
     "output_type": "display_data"
    },
    {
     "data": {
      "image/png": "[encoded data removed]",
      "text/plain": [
       "<Figure size 432x288 with 1 Axes>"
      ]
     },
     "metadata": {
      "needs_background": "light"
     },
     "output_type": "display_data"
    },
    {
     "data": {
      "image/png": "[encoded data removed]",
      "text/plain": [
       "<Figure size 432x288 with 1 Axes>"
      ]
     },
     "metadata": {
      "needs_background": "light"
     },
     "output_type": "display_data"
    }
   ],
   "source": [
    "def Trap_rule(N):\n",
    "    x = np.linspace(0,np.pi,N)\n",
    "    h = x[1]-x[0]\n",
    "    A = 0\n",
    "    for i in range(1,N-1):\n",
    "        A += h * np.sin(x[i])\n",
    "    A+= h/2 * (np.sin(x[0]) + np.sin(x[-1])) # add end points\n",
    "    return A\n",
    "\n",
    "N_array = np.arange(10,1010,10)\n",
    "Error = np.zeros(len(N_array))\n",
    "\n",
    "for n in range(len(N_array)):\n",
    "    Error[n] = abs(Trap_rule(N_array[n])-2.0)\n",
    "\n",
    "plt.figure()\n",
    "plt.plot(N_array, Error,'k-')\n",
    "plt.xlabel('Number of points')\n",
    "plt.ylabel('Error')\n",
    "\n",
    "plt.figure()\n",
    "plt.semilogy(N_array, Error,'k-')\n",
    "plt.xlabel('Number of points')\n",
    "plt.ylabel('Error')\n",
    "\n",
    "plt.figure()\n",
    "plt.loglog(N_array, Error,'k-')\n",
    "plt.xlabel('Number of points')\n",
    "plt.ylabel('Error')\n",
    "            "
   ]
  },
  {
   "cell_type": "markdown",
   "metadata": {},
   "source": [
    "5. Create a plot of stacked circles\n",
    "    1. By specifying the angle theta to range from 0 to 2*Pi, create (x,y)\n",
    "positions on the unit circle: \n",
    "$$ x = \\cos(\\theta); y = \\sin(\\theta). $$\n",
    "Plot a single circle on a figure of unit radius. Use plt.figure( figsize=(6,6))\n",
    " to create a square shaped figure.\n",
    "    2. Create a function that plots a circle, given the (x_0,y_0) position of the\n",
    "centre point and the radius, r. Make sure it works, by creating a figure, then calling your function.\n",
    "    3. Using a for-loop, call your function 5 times to plot 5 circles, each\n",
    "one sitting on top of the one below as if they were stacked\n",
    "vertically.\n",
    "    4. Using a for-loop, call your function to plot 10 co-centred circles which have radii 1, 0.7, 0.7^2, 0.7^3,….\n",
    "   "
   ]
  },
  {
   "cell_type": "code",
   "execution_count": 100,
   "metadata": {},
   "outputs": [
    {
     "data": {
      "text/plain": [
       "[<matplotlib.lines.Line2D at 0x7fdaa8652090>]"
      ]
     },
     "execution_count": 100,
     "metadata": {},
     "output_type": "execute_result"
    },
    {
     "data": {
      "image/png": "[encoded data removed]",
      "text/plain": [
       "<Figure size 432x432 with 1 Axes>"
      ]
     },
     "metadata": {
      "needs_background": "light"
     },
     "output_type": "display_data"
    }
   ],
   "source": [
    "theta = np.linspace(0,2*np.pi,100)\n",
    "x = np.cos(theta)\n",
    "y = np.sin(theta)\n",
    "plt.figure( figsize=(6,6))\n",
    "plt.plot(x,y)\n",
    "\n"
   ]
  },
  {
   "cell_type": "code",
   "execution_count": 115,
   "metadata": {},
   "outputs": [
    {
     "data": {
      "image/png": "[encoded data removed]",
      "text/plain": [
       "<Figure size 432x432 with 1 Axes>"
      ]
     },
     "metadata": {
      "needs_background": "light"
     },
     "output_type": "display_data"
    }
   ],
   "source": [
    "def plot_circle(x_0, y_0,r):\n",
    "    '''Function to plot a circle, with centre point (x_0, y_0) and of radius r\n",
    "    '''\n",
    "    theta = np.linspace(0,2*np.pi,100)\n",
    "    x = x_0 + r * np.cos(theta)\n",
    "    y = y_0 + r * np.sin(theta)\n",
    "    plt.plot(x,y) \n",
    "\n",
    "plt.figure( figsize=(6,6))\n",
    "plot_circle(1,2,3)"
   ]
  },
  {
   "cell_type": "code",
   "execution_count": 116,
   "metadata": {},
   "outputs": [
    {
     "data": {
      "image/png": "[encoded data removed]",
      "text/plain": [
       "<Figure size 72x360 with 1 Axes>"
      ]
     },
     "metadata": {
      "needs_background": "light"
     },
     "output_type": "display_data"
    }
   ],
   "source": [
    "plt.figure( figsize=(1,5))\n",
    "for i in range(5):\n",
    "    plot_circle(0,2*i,1)"
   ]
  },
  {
   "cell_type": "code",
   "execution_count": 118,
   "metadata": {},
   "outputs": [
    {
     "data": {
      "image/png": "[encoded data removed]",
      "text/plain": [
       "<Figure size 360x360 with 1 Axes>"
      ]
     },
     "metadata": {
      "needs_background": "light"
     },
     "output_type": "display_data"
    }
   ],
   "source": [
    "plt.figure( figsize=(5,5))\n",
    "x_0 = 0\n",
    "y_0 = 0\n",
    "for i in range(10):\n",
    "    plot_circle(x_0, y_0, 0.7**i)\n",
    "    "
   ]
  },
  {
   "cell_type": "code",
   "execution_count": null,
   "metadata": {},
   "outputs": [],
   "source": []
  }
 ],
 "metadata": {
  "kernelspec": {
   "display_name": "Python 3 (ipykernel)",
   "language": "python",
   "name": "python3"
  },
  "language_info": {
   "codemirror_mode": {
    "name": "ipython",
    "version": 3
   },
   "file_extension": ".py",
   "mimetype": "text/x-python",
   "name": "python",
   "nbconvert_exporter": "python",
   "pygments_lexer": "ipython3",
   "version": "3.9.7"
  }
 },
 "nbformat": 4,
 "nbformat_minor": 4
}
