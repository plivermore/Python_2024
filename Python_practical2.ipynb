{
 "cells": [
  {
   "cell_type": "code",
   "execution_count": 2,
   "metadata": {},
   "outputs": [],
   "source": [
    "import numpy as np"
   ]
  },
  {
   "cell_type": "markdown",
   "metadata": {},
   "source": [
    "## Python 2"
   ]
  },
  {
   "cell_type": "markdown",
   "metadata": {},
   "source": [
    "In this workshop, we'll cover \n",
    "1. More advanced matrices and vectors\n",
    "2. Acting on error messages\n",
    "3. Python methods\n",
    "4. More advanced plotting"
   ]
  },
  {
   "cell_type": "markdown",
   "metadata": {},
   "source": [
    "### Matrices and vectors"
   ]
  },
  {
   "cell_type": "code",
   "execution_count": null,
   "metadata": {},
   "outputs": [],
   "source": [
    "Recap: last week, we looked at"
   ]
  },
  {
   "cell_type": "code",
   "execution_count": 8,
   "metadata": {},
   "outputs": [
    {
     "name": "stdout",
     "output_type": "stream",
     "text": [
      "My vector is  [1.21  2.1   3.1   4.23  5.435 6.34 ]\n",
      "Integer list  [ 0  5 10 15 20 25 30 35]\n",
      "First element of vector z  0\n",
      "Last element of vector z  9\n",
      "Last element of vector z  9\n"
     ]
    }
   ],
   "source": [
    "x = np.array( [1.21,2.1,3.1,4.23,5.435,6.34])\n",
    "print('My vector is ', x) \n",
    "\n",
    "y = np.arange(0,40,5)\n",
    "print('Integer list ', y)\n",
    "\n",
    "z = np.arange(10)\n",
    "print('First element of vector z ', z[0]) #the first element\n",
    "print('Last element of vector z ',z[-1]) #the last element\n",
    "print('Last element of vector z ', z[9]) # Also the last element"
   ]
  },
  {
   "cell_type": "markdown",
   "metadata": {},
   "source": [
    "### Defining a matrix"
   ]
  },
  {
   "cell_type": "code",
   "execution_count": 32,
   "metadata": {},
   "outputs": [
    {
     "name": "stdout",
     "output_type": "stream",
     "text": [
      "[0. 0. 0. 0.]\n"
     ]
    }
   ],
   "source": [
    "G = np.zeros( 4 )  #1D vector of zeros\n",
    "print(G)\n"
   ]
  },
  {
   "cell_type": "code",
   "execution_count": 14,
   "metadata": {},
   "outputs": [
    {
     "name": "stdout",
     "output_type": "stream",
     "text": [
      "[[0. 0. 0. 0.]]\n"
     ]
    }
   ],
   "source": [
    "G = np.zeros( (1,4) )  #In Python, (1,4) is called a tuple. [1,4] is a list, and here they are interchangeable.\n",
    "print(G)"
   ]
  },
  {
   "cell_type": "code",
   "execution_count": 25,
   "metadata": {},
   "outputs": [
    {
     "name": "stdout",
     "output_type": "stream",
     "text": [
      "[[0. 0. 0. 0.]\n",
      " [0. 0. 0. 0.]]\n"
     ]
    }
   ],
   "source": [
    "G = np.zeros( [2,4] )  \n",
    "print(G)  #G here has the structure of a vector of row vectors,"
   ]
  },
  {
   "cell_type": "code",
   "execution_count": 21,
   "metadata": {},
   "outputs": [
    {
     "name": "stdout",
     "output_type": "stream",
     "text": [
      "[[1. 1. 1. 1.]\n",
      " [1. 1. 1. 1.]]\n"
     ]
    }
   ],
   "source": [
    "G = np.ones( (2,4) )  \n",
    "print(G)  "
   ]
  },
  {
   "cell_type": "code",
   "execution_count": 26,
   "metadata": {},
   "outputs": [
    {
     "name": "stdout",
     "output_type": "stream",
     "text": [
      "[[1 0 0 0]\n",
      " [0 2 0 0]\n",
      " [0 0 3 0]\n",
      " [0 0 0 4]]\n"
     ]
    }
   ],
   "source": [
    "G = np.diag( [1,2,3,4] )  \n",
    "print(G)  #G here has the structure of a vector of row vectors,"
   ]
  },
  {
   "cell_type": "code",
   "execution_count": 89,
   "metadata": {},
   "outputs": [
    {
     "name": "stdout",
     "output_type": "stream",
     "text": [
      "[[1. 0. 0. 0.]\n",
      " [0. 1. 0. 0.]\n",
      " [0. 0. 1. 0.]\n",
      " [0. 0. 0. 1.]]\n"
     ]
    }
   ],
   "source": [
    "G = np.eye(4)\n",
    "print(G)"
   ]
  },
  {
   "cell_type": "code",
   "execution_count": 33,
   "metadata": {},
   "outputs": [
    {
     "name": "stdout",
     "output_type": "stream",
     "text": [
      "[[1 2 3 4]\n",
      " [5 6 7 8]]\n"
     ]
    }
   ],
   "source": [
    "# or define by hand:\n",
    "H = np.array( [[1,2,3,4],[5,6,7,8]])\n",
    "print(H)"
   ]
  },
  {
   "cell_type": "markdown",
   "metadata": {},
   "source": [
    "#### Multiplying matrices together"
   ]
  },
  {
   "cell_type": "code",
   "execution_count": 36,
   "metadata": {},
   "outputs": [
    {
     "name": "stdout",
     "output_type": "stream",
     "text": [
      "[[1 3 4 5]\n",
      " [4 5 2 2]]\n",
      "[[1. 1.]\n",
      " [1. 1.]\n",
      " [1. 1.]\n",
      " [1. 1.]]\n"
     ]
    }
   ],
   "source": [
    "G = np.array( [[1,3,4,5],[4,5,2,2]] )\n",
    "H = np.ones( [4,2] )\n",
    "print(G)\n",
    "print(H)"
   ]
  },
  {
   "cell_type": "code",
   "execution_count": 41,
   "metadata": {},
   "outputs": [
    {
     "data": {
      "text/plain": [
       "(2, 4)"
      ]
     },
     "execution_count": 41,
     "metadata": {},
     "output_type": "execute_result"
    }
   ],
   "source": [
    "# check the shape of the array:\n",
    "G. shape"
   ]
  },
  {
   "cell_type": "code",
   "execution_count": 40,
   "metadata": {},
   "outputs": [
    {
     "data": {
      "text/plain": [
       "((2, 4), (4, 2))"
      ]
     },
     "execution_count": 40,
     "metadata": {},
     "output_type": "execute_result"
    }
   ],
   "source": [
    "G.shape, H.shape"
   ]
  },
  {
   "cell_type": "code",
   "execution_count": 42,
   "metadata": {},
   "outputs": [
    {
     "name": "stdout",
     "output_type": "stream",
     "text": [
      "[[13. 13.]\n",
      " [13. 13.]]\n"
     ]
    }
   ],
   "source": [
    "# matrix multiply:\n",
    "print( G @ H )\n"
   ]
  },
  {
   "cell_type": "code",
   "execution_count": 98,
   "metadata": {},
   "outputs": [
    {
     "name": "stdout",
     "output_type": "stream",
     "text": [
      "G =  [[1 3 4 5]\n",
      " [4 5 2 2]]\n",
      "\n",
      "J =  [[2. 2. 2. 2.]\n",
      " [2. 2. 2. 2.]]\n",
      "\n",
      "G * J =  [[ 2.  6.  8. 10.]\n",
      " [ 8. 10.  4.  4.]]\n",
      "\n",
      "G + J =  [[3. 5. 6. 7.]\n",
      " [6. 7. 4. 4.]]\n"
     ]
    }
   ],
   "source": [
    "# elementwise multiplication and addition\n",
    "\n",
    "G = np.array( [[1,3,4,5],[4,5,2,2]] )\n",
    "J = 2 * np.ones( [2,4] )\n",
    "print('G = ',G)\n",
    "print('')\n",
    "print('J = ', J)\n",
    "print('')\n",
    "print('G * J = ', G * J )\n",
    "print('')\n",
    "print('G + J = ',G + J)"
   ]
  },
  {
   "cell_type": "markdown",
   "metadata": {},
   "source": [
    "#### Indexing"
   ]
  },
  {
   "cell_type": "code",
   "execution_count": 77,
   "metadata": {},
   "outputs": [
    {
     "name": "stdout",
     "output_type": "stream",
     "text": [
      "[[ 1  3  4  5]\n",
      " [ 4  5  2  2]\n",
      " [-2  1  0  2]]\n",
      "\n",
      "0,0 element is  1\n",
      "1,3 element is  2\n"
     ]
    }
   ],
   "source": [
    "G = np.array( [[1,3,4,5],[4,5,2,2],[-2,1,0,2]] )\n",
    "print(G)\n",
    "print('')\n",
    "print('0,0 element is ', G[0,0])  #index is row, column\n",
    "print('1,3 element is ', G[1,3])"
   ]
  },
  {
   "cell_type": "markdown",
   "metadata": {},
   "source": [
    "#### Colon indexing and extracting elements"
   ]
  },
  {
   "cell_type": "code",
   "execution_count": 81,
   "metadata": {},
   "outputs": [
    {
     "name": "stdout",
     "output_type": "stream",
     "text": [
      "[[ 1  3  4  5]\n",
      " [ 4  5  2  2]\n",
      " [-2  1  0  2]]\n",
      "\n",
      "Last row is  [-2  1  0  2]\n",
      "Last row is  [-2  1  0  2]\n",
      "\n",
      "First column is  [ 1  4 -2]\n",
      "\n",
      "Upper 2x2 matrix of G is  [[1 3]\n",
      " [4 5]]\n"
     ]
    }
   ],
   "source": [
    "G = np.array( [[1,3,4,5],[4,5,2,2],[-2,1,0,2]] )\n",
    "print(G)\n",
    "print('')\n",
    "print('Last row is ', G[-1,:])\n",
    "print('Last row is ', G[2,:])\n",
    "print('')\n",
    "print('First column is ', G[:,0])\n",
    "print('')\n",
    "print('Upper 2x2 matrix of G is ', G[0:2,0:2])"
   ]
  },
  {
   "cell_type": "raw",
   "metadata": {},
   "source": [
    "So for a vector v\n",
    "    v[:]  means all elements of v\n",
    "    v[3:] means all elements with index 3 onwards (to the end)\n",
    "    v[:5] means all elements from index 0 to index 5 (but not including 5)\n",
    "    "
   ]
  },
  {
   "cell_type": "markdown",
   "metadata": {},
   "source": [
    "#### Downsampling"
   ]
  },
  {
   "cell_type": "code",
   "execution_count": 94,
   "metadata": {},
   "outputs": [
    {
     "name": "stdout",
     "output_type": "stream",
     "text": [
      "[[1 0 0 0 0 0 0 0]\n",
      " [0 2 0 0 0 0 0 0]\n",
      " [0 0 3 0 0 0 0 0]\n",
      " [0 0 0 4 0 0 0 0]\n",
      " [0 0 0 0 5 0 0 0]\n",
      " [0 0 0 0 0 6 0 0]\n",
      " [0 0 0 0 0 0 7 0]\n",
      " [0 0 0 0 0 0 0 8]]\n"
     ]
    }
   ],
   "source": [
    "G = np.diag([1,2,3,4,5,6,7,8])\n",
    "print(G)"
   ]
  },
  {
   "cell_type": "code",
   "execution_count": 95,
   "metadata": {},
   "outputs": [
    {
     "name": "stdout",
     "output_type": "stream",
     "text": [
      "[1 0 0 0]\n",
      "\n",
      "[[1 0 0 0]\n",
      " [0 3 0 0]\n",
      " [0 0 5 0]\n",
      " [0 0 0 7]]\n"
     ]
    }
   ],
   "source": [
    "start = 0\n",
    "stop = 7\n",
    "step = 2\n",
    "H = G[0, start:stop:step]  #begin at start, go up to but do not include stop, in steps\n",
    "print(H)\n",
    "print('')\n",
    "H = G[start:stop:step, start:stop:step]\n",
    "print(H)"
   ]
  },
  {
   "cell_type": "code",
   "execution_count": null,
   "metadata": {},
   "outputs": [],
   "source": [
    "So for a vector v\n",
    "    v[:]    means all elements of v\n",
    "    v[3::2] means all elements with index 3 onwards in steps of 2\n",
    "    v[::1]  means all elements of v in steps of 1\n",
    "    v[::-1] means all elements of v in steps of -1"
   ]
  },
  {
   "cell_type": "code",
   "execution_count": 96,
   "metadata": {},
   "outputs": [
    {
     "name": "stdout",
     "output_type": "stream",
     "text": [
      "[[8 0 0 0 0 0 0 0]\n",
      " [0 7 0 0 0 0 0 0]\n",
      " [0 0 6 0 0 0 0 0]\n",
      " [0 0 0 5 0 0 0 0]\n",
      " [0 0 0 0 4 0 0 0]\n",
      " [0 0 0 0 0 3 0 0]\n",
      " [0 0 0 0 0 0 2 0]\n",
      " [0 0 0 0 0 0 0 1]]\n"
     ]
    }
   ],
   "source": [
    "# Reverse\n",
    "H = G[::-1,::-1]\n",
    "print(H)"
   ]
  },
  {
   "cell_type": "markdown",
   "metadata": {},
   "source": [
    "#### Modifying elements"
   ]
  },
  {
   "cell_type": "code",
   "execution_count": 58,
   "metadata": {},
   "outputs": [
    {
     "name": "stdout",
     "output_type": "stream",
     "text": [
      "[[ 1.  1.  1.  1.]\n",
      " [ 1.  1.  1. 10.]]\n"
     ]
    }
   ],
   "source": [
    "G = np.ones( (2,4) )  \n",
    "G[1,3] = 10\n",
    "print(G)"
   ]
  },
  {
   "cell_type": "markdown",
   "metadata": {},
   "source": [
    "Tasks 1\n",
    "1. Define the following matrix by hand:\n",
    "$$ A = \\left( \\begin{array}{cc} 12 & 3 \\\\ 3 & -4\\end{array} \\right) $$\n",
    "2. Define the following matrix using the zeros function to create a 3x2 matrix, which is then modified\n",
    "$$ B = \\left( \\begin{array}{cc} 0 & 0 \\\\ 0 & 0 \\\\ 2 & 3 \\end{array} \\right) $$\n",
    "3. Check the shape of the matrices $A$ and $B$, and multiply them together. Which order must they be in?\n",
    "4. Define by hand a 4x4 matrix. Display a downsampled version, keeping every other value.\n",
    "Display a reversed version of the 4x4 matrix.\n"
   ]
  },
  {
   "cell_type": "markdown",
   "metadata": {},
   "source": [
    "### Error messages"
   ]
  },
  {
   "cell_type": "markdown",
   "metadata": {},
   "source": [
    "Tasks 2: Carefully read the following commands and correct the mistakes"
   ]
  },
  {
   "cell_type": "code",
   "execution_count": 112,
   "metadata": {},
   "outputs": [
    {
     "ename": "IndexError",
     "evalue": "index 10 is out of bounds for axis 0 with size 10",
     "output_type": "error",
     "traceback": [
      "\u001b[0;31m---------------------------------------------------------------------------\u001b[0m",
      "\u001b[0;31mIndexError\u001b[0m                                Traceback (most recent call last)",
      "\u001b[0;32m<ipython-input-112-0e71bc1a5fbd>\u001b[0m in \u001b[0;36m<module>\u001b[0;34m\u001b[0m\n\u001b[1;32m      1\u001b[0m \u001b[0mk\u001b[0m \u001b[0;34m=\u001b[0m \u001b[0mnp\u001b[0m\u001b[0;34m.\u001b[0m\u001b[0marange\u001b[0m\u001b[0;34m(\u001b[0m\u001b[0;36m10\u001b[0m\u001b[0;34m)\u001b[0m\u001b[0;34m\u001b[0m\u001b[0;34m\u001b[0m\u001b[0m\n\u001b[0;32m----> 2\u001b[0;31m \u001b[0mprint\u001b[0m\u001b[0;34m(\u001b[0m\u001b[0;34m'Last element of vector z '\u001b[0m\u001b[0;34m,\u001b[0m \u001b[0mk\u001b[0m\u001b[0;34m[\u001b[0m\u001b[0;36m10\u001b[0m\u001b[0;34m]\u001b[0m\u001b[0;34m)\u001b[0m\u001b[0;34m\u001b[0m\u001b[0;34m\u001b[0m\u001b[0m\n\u001b[0m",
      "\u001b[0;31mIndexError\u001b[0m: index 10 is out of bounds for axis 0 with size 10"
     ]
    }
   ],
   "source": [
    "k = np.arange(10)\n",
    "print('Last element of vector z ', k[10]) "
   ]
  },
  {
   "cell_type": "code",
   "execution_count": 113,
   "metadata": {},
   "outputs": [
    {
     "ename": "SyntaxError",
     "evalue": "expression cannot contain assignment, perhaps you meant \"==\"? (<ipython-input-113-8c9e2803dc63>, line 1)",
     "output_type": "error",
     "traceback": [
      "\u001b[0;36m  File \u001b[0;32m\"<ipython-input-113-8c9e2803dc63>\"\u001b[0;36m, line \u001b[0;32m1\u001b[0m\n\u001b[0;31m    print('G + J '  = G + J)\u001b[0m\n\u001b[0m          ^\u001b[0m\n\u001b[0;31mSyntaxError\u001b[0m\u001b[0;31m:\u001b[0m expression cannot contain assignment, perhaps you meant \"==\"?\n"
     ]
    }
   ],
   "source": [
    "print('G + J '  = G + J)"
   ]
  },
  {
   "cell_type": "code",
   "execution_count": 114,
   "metadata": {},
   "outputs": [
    {
     "ename": "SyntaxError",
     "evalue": "invalid syntax (<ipython-input-114-018feb54fbe6>, line 2)",
     "output_type": "error",
     "traceback": [
      "\u001b[0;36m  File \u001b[0;32m\"<ipython-input-114-018feb54fbe6>\"\u001b[0;36m, line \u001b[0;32m2\u001b[0m\n\u001b[0;31m    print('Last element of vector z ' z[9])\u001b[0m\n\u001b[0m                                      ^\u001b[0m\n\u001b[0;31mSyntaxError\u001b[0m\u001b[0;31m:\u001b[0m invalid syntax\n"
     ]
    }
   ],
   "source": [
    "z = np.arange(10)\n",
    "print('Last element of vector z ' z[9]) "
   ]
  },
  {
   "cell_type": "code",
   "execution_count": 118,
   "metadata": {},
   "outputs": [
    {
     "ename": "SyntaxError",
     "evalue": "closing parenthesis ')' does not match opening parenthesis '[' (<ipython-input-118-91507db2b0bc>, line 1)",
     "output_type": "error",
     "traceback": [
      "\u001b[0;36m  File \u001b[0;32m\"<ipython-input-118-91507db2b0bc>\"\u001b[0;36m, line \u001b[0;32m1\u001b[0m\n\u001b[0;31m    T = np.array[ [3,4,5],[4,6,7])\u001b[0m\n\u001b[0m                                 ^\u001b[0m\n\u001b[0;31mSyntaxError\u001b[0m\u001b[0;31m:\u001b[0m closing parenthesis ')' does not match opening parenthesis '['\n"
     ]
    }
   ],
   "source": [
    "T = np.array[ [3,4,5],[4,6,7]) "
   ]
  },
  {
   "cell_type": "code",
   "execution_count": 119,
   "metadata": {},
   "outputs": [
    {
     "ename": "ValueError",
     "evalue": "matmul: Input operand 1 has a mismatch in its core dimension 0, with gufunc signature (n?,k),(k,m?)->(n?,m?) (size 2 is different from 4)",
     "output_type": "error",
     "traceback": [
      "\u001b[0;31m---------------------------------------------------------------------------\u001b[0m",
      "\u001b[0;31mValueError\u001b[0m                                Traceback (most recent call last)",
      "\u001b[0;32m<ipython-input-119-eda6478c9284>\u001b[0m in \u001b[0;36m<module>\u001b[0;34m\u001b[0m\n\u001b[1;32m      1\u001b[0m \u001b[0mG\u001b[0m \u001b[0;34m=\u001b[0m \u001b[0mnp\u001b[0m\u001b[0;34m.\u001b[0m\u001b[0marray\u001b[0m\u001b[0;34m(\u001b[0m \u001b[0;34m[\u001b[0m\u001b[0;34m[\u001b[0m\u001b[0;36m1\u001b[0m\u001b[0;34m,\u001b[0m\u001b[0;36m3\u001b[0m\u001b[0;34m,\u001b[0m\u001b[0;36m4\u001b[0m\u001b[0;34m,\u001b[0m\u001b[0;36m5\u001b[0m\u001b[0;34m]\u001b[0m\u001b[0;34m,\u001b[0m\u001b[0;34m[\u001b[0m\u001b[0;36m4\u001b[0m\u001b[0;34m,\u001b[0m\u001b[0;36m5\u001b[0m\u001b[0;34m,\u001b[0m\u001b[0;36m2\u001b[0m\u001b[0;34m,\u001b[0m\u001b[0;36m2\u001b[0m\u001b[0;34m]\u001b[0m\u001b[0;34m]\u001b[0m \u001b[0;34m)\u001b[0m\u001b[0;34m\u001b[0m\u001b[0;34m\u001b[0m\u001b[0m\n\u001b[1;32m      2\u001b[0m \u001b[0mJ\u001b[0m \u001b[0;34m=\u001b[0m \u001b[0;36m2\u001b[0m \u001b[0;34m*\u001b[0m \u001b[0mnp\u001b[0m\u001b[0;34m.\u001b[0m\u001b[0mones\u001b[0m\u001b[0;34m(\u001b[0m \u001b[0;34m[\u001b[0m\u001b[0;36m2\u001b[0m\u001b[0;34m,\u001b[0m\u001b[0;36m4\u001b[0m\u001b[0;34m]\u001b[0m \u001b[0;34m)\u001b[0m\u001b[0;34m\u001b[0m\u001b[0;34m\u001b[0m\u001b[0m\n\u001b[0;32m----> 3\u001b[0;31m \u001b[0mG\u001b[0m \u001b[0;34m@\u001b[0m \u001b[0mJ\u001b[0m\u001b[0;34m\u001b[0m\u001b[0;34m\u001b[0m\u001b[0m\n\u001b[0m",
      "\u001b[0;31mValueError\u001b[0m: matmul: Input operand 1 has a mismatch in its core dimension 0, with gufunc signature (n?,k),(k,m?)->(n?,m?) (size 2 is different from 4)"
     ]
    }
   ],
   "source": [
    "G = np.array( [[1,3,4,5],[4,5,2,2]] )\n",
    "J = 2 * np.ones( [2,4] )\n",
    "G @ J"
   ]
  },
  {
   "cell_type": "code",
   "execution_count": null,
   "metadata": {},
   "outputs": [],
   "source": []
  },
  {
   "cell_type": "markdown",
   "metadata": {},
   "source": [
    "### Methods"
   ]
  },
  {
   "cell_type": "code",
   "execution_count": null,
   "metadata": {},
   "outputs": [],
   "source": [
    "Python objects (e.g. a numpy array) often have methods associated with them."
   ]
  },
  {
   "cell_type": "code",
   "execution_count": 120,
   "metadata": {},
   "outputs": [],
   "source": [
    "G = np.array([1,2,3,4])"
   ]
  },
  {
   "cell_type": "code",
   "execution_count": 123,
   "metadata": {},
   "outputs": [
    {
     "name": "stdout",
     "output_type": "stream",
     "text": [
      "4\n",
      "4\n"
     ]
    }
   ],
   "source": [
    "print( G.max()  ) # is the maximum value\n",
    "print( np.max( G)) #is equivalent\n"
   ]
  },
  {
   "cell_type": "code",
   "execution_count": 124,
   "metadata": {},
   "outputs": [
    {
     "data": {
      "text/plain": [
       "0"
      ]
     },
     "execution_count": 124,
     "metadata": {},
     "output_type": "execute_result"
    }
   ],
   "source": [
    "G.argmin()"
   ]
  },
  {
   "cell_type": "code",
   "execution_count": 125,
   "metadata": {},
   "outputs": [
    {
     "data": {
      "text/plain": [
       "2.5"
      ]
     },
     "execution_count": 125,
     "metadata": {},
     "output_type": "execute_result"
    }
   ],
   "source": [
    "G.mean()"
   ]
  },
  {
   "cell_type": "code",
   "execution_count": 127,
   "metadata": {},
   "outputs": [
    {
     "name": "stdout",
     "output_type": "stream",
     "text": [
      "[1 2 3 4]\n"
     ]
    }
   ],
   "source": [
    "print( G.T )"
   ]
  },
  {
   "cell_type": "markdown",
   "metadata": {},
   "source": [
    "##### To see what methods are available for an object (say G), type\n",
    "##### G. [tab]"
   ]
  },
  {
   "cell_type": "markdown",
   "metadata": {},
   "source": [
    "### More advanced plotting"
   ]
  },
  {
   "cell_type": "markdown",
   "metadata": {},
   "source": [
    "[Here we make use of the Matplotlib module, click here for lots more examples](https://matplotlib.org/stable/)"
   ]
  },
  {
   "cell_type": "code",
   "execution_count": 183,
   "metadata": {},
   "outputs": [
    {
     "data": {
      "image/png": "[encoded data removed]",
      "text/plain": [
       "<Figure size 432x288 with 1 Axes>"
      ]
     },
     "metadata": {
      "needs_background": "light"
     },
     "output_type": "display_data"
    }
   ],
   "source": [
    "import matplotlib.pylab as plt\n",
    "\n",
    "fig, ax = plt.subplots( 1, figsize=(6,4))   #create a figure and return figure and axis \"objects\"\n",
    "\n",
    "x = np.linspace(0,2*np.pi,20)\n",
    "y = np.sin(x)\n",
    "z = np.cos(x)\n",
    "ax.plot(x,y,'bo', label='sin')  #on the axes \"ax\" plot the data (x,y)\n",
    "ax.plot(x,z,'rD', label='cos')  #on the axes \"ax\" plot the data (x,y)\n",
    "ax.legend()\n",
    "fig.savefig('simple_plot.pdf')  #save figure as pdf"
   ]
  },
  {
   "cell_type": "code",
   "execution_count": 184,
   "metadata": {},
   "outputs": [
    {
     "data": {
      "text/plain": [
       "Text(0.5, 0, 'x')"
      ]
     },
     "execution_count": 184,
     "metadata": {},
     "output_type": "execute_result"
    },
    {
     "data": {
      "image/png": "[encoded data removed]",
      "text/plain": [
       "<Figure size 720x432 with 2 Axes>"
      ]
     },
     "metadata": {
      "needs_background": "light"
     },
     "output_type": "display_data"
    }
   ],
   "source": [
    "# In this example, you need to use the axis methods.\n",
    "\n",
    "import matplotlib.pylab as plt\n",
    "\n",
    "fig, (ax1,ax2) = plt.subplots( 2,1,  figsize=(10,6) )   #create a figure and return figure and axis \"objects\" with 2x1 grid of plots\n",
    "# size in inches\n",
    "\n",
    "x = np.linspace(0,2*np.pi,20)\n",
    "y = np.sin(x)\n",
    "z = np.cos(x)\n",
    "ax1.plot(x,y,'bo')  #on the axes \"ax\" plot the data (x,y)\n",
    "ax1.plot(x,z,'r-')\n",
    "\n",
    "ax2.plot(x,x**2,'-',color='orange')\n",
    "ax1.set_ylabel('y')\n",
    "ax2.set_xlabel('x')\n"
   ]
  },
  {
   "cell_type": "markdown",
   "metadata": {},
   "source": [
    "# Task 3"
   ]
  },
  {
   "cell_type": "markdown",
   "metadata": {},
   "source": [
    "Copy the file stress.dat from the same location as the Python notebook to your working folder.\n",
    "\n",
    "The file gives the calculated stresses in a molecular dynamics simulation of perovskite, as a function of simulation time. The first column is simulation time (in fs), columns 2 to 4 are the three compressional stress components (x, y and z) and columns 5 to 7 the three shear stress components (xy, yz and zx) (in GPa). \n",
    "\n",
    "Inspect the file by clicking on it (within the list of files on the left hand side).\n",
    "\n",
    "1. Now load the file into Python:"
   ]
  },
  {
   "cell_type": "code",
   "execution_count": 154,
   "metadata": {},
   "outputs": [],
   "source": [
    "data = np.loadtxt('stress.dat')"
   ]
  },
  {
   "cell_type": "markdown",
   "metadata": {},
   "source": [
    "2. Define vectors for the 6 stress components, extracted from 'data'. Using the methods mean and std, find and display the mean and standard deviation of each variable.\n",
    "\n",
    "3. Plot all 6 stress variables on a single figure (in different colours), as a function of time. Add a legend, labels for the x- and y-axes, and a title. \n",
    "\n",
    "4. Using the set_ylim method (use the help command if you need it), change the axes of your plot to show the range of y from -160 to 10.\n",
    "\n",
    "5. In a new Python cell, write code to create a 2x3 array of plots, one row for the compressional stress, and one row for the shear stress.  The figure axes can be defined using the command\n",
    "\n",
    "fig, ((ax0,ax1,ax2),(ax3,ax4,ax5)) = plt.subplots(2,3)\n",
    "\n",
    "Each subplot should include the data, as well as a horizontal line indicating the mean value. \n",
    "To plot a horizontal line, you need to specify the start and end points. For example, if the mean is 10, to plot a straightline between the two points (0,10) and (4000,10) use the command ax.plot([0,4000],[10,10])\n",
    "\n",
    "6. To aid their comparison, ensure that the subplots in each row all have the same scale. \n",
    "\n",
    "7. Adjust the size of the figure to make it look good (not squashed).\n",
    "\n",
    "8. Using help, find out how to use the command 'errorbar'. \n",
    "Downsample the x-component of the compressional stress and time by keeping every 100th value. Assume that the error in measurement is 10% of the maximum absolute value.  \n",
    "In a new Python cell, create a single-panel figure. Plot the 40 downsampled data points with the given errorbar: plotting the data point using a blue, square marker, and using a 'capsize' of 2. \n",
    "\n",
    "9. Find and display to the screen the time at which the minimum x-component of the downsampled compressional stress occurs. Make a new version of the figure from question (8) above in which the minimum value is shown in red."
   ]
  },
  {
   "cell_type": "code",
   "execution_count": null,
   "metadata": {},
   "outputs": [],
   "source": []
  },
  {
   "cell_type": "code",
   "execution_count": null,
   "metadata": {},
   "outputs": [],
   "source": []
  }
 ],
 "metadata": {
  "kernelspec": {
   "display_name": "Python 3 (ipykernel)",
   "language": "python",
   "name": "python3"
  },
  "language_info": {
   "codemirror_mode": {
    "name": "ipython",
    "version": 3
   },
   "file_extension": ".py",
   "mimetype": "text/x-python",
   "name": "python",
   "nbconvert_exporter": "python",
   "pygments_lexer": "ipython3",
   "version": "3.11.5"
  }
 },
 "nbformat": 4,
 "nbformat_minor": 4
}
